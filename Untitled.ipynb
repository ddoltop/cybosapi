{
 "cells": [
  {
   "cell_type": "code",
   "execution_count": 1,
   "metadata": {
    "collapsed": true
   },
   "outputs": [],
   "source": [
    "import pandas as pd"
   ]
  },
  {
   "cell_type": "code",
   "execution_count": 2,
   "metadata": {
    "collapsed": true
   },
   "outputs": [],
   "source": [
    "from listorm import Listorm"
   ]
  },
  {
   "cell_type": "code",
   "execution_count": 3,
   "metadata": {
    "collapsed": true
   },
   "outputs": [],
   "source": [
    "from cp.CpSysDib.MarketEye import get_marketeye\n",
    "from cp.CpSysDib.StockChart import get_stockchart\n",
    "from cp.CpDib.StockMst import get_stockmst\n",
    "from cp.CpDib.StockMstM import get_stockmstm\n",
    "from cp.CpDib.StockMst2 import get_stockmst2\n",
    "from cp.CpDib.StockCur import get_stockcur\n",
    "from cp.CpDib.StockJpBid import get_stockjpbid\n",
    "from cp.CpDib.StockBid import get_stockbid\n",
    "from cp.CpDib.StockWeek import get_stockweek\n",
    "from cp.CpDib.CpSvr7819C import get_cpsvr7819c\n",
    "from cp.CpDib.StockIndexIR import get_stockindexir\n",
    "from cp.CpUtil.CpCodeMgr import CpCodeManager, code2name\n",
    "from cp.CpUtil.CpUsCode import get_us_code_list, uscode2name\n",
    "from cp.CpUtil.CpStockCode import CpStockCode, get_code_table, get_count\n",
    "from cp.CpSysDib.CpMarketWatch import get_stockmarket_watch\n",
    "from cp.CpDib.CpSvr8300 import get_cpsvr8300\n",
    "from cp.CpDib.CpSvr8561 import get_cpsvr8561 #테마 리스트\n",
    "from cp.CpDib.CpSvr8562 import get_cpsvr8562 #테마코드 종목별 매핑\n",
    "from cp.CpDib.CpSvr8561T import get_cpsvr8561t #테마코드별 종목 조회"
   ]
  },
  {
   "cell_type": "code",
   "execution_count": 4,
   "metadata": {
    "collapsed": true
   },
   "outputs": [],
   "source": [
    "codes = get_code_table()"
   ]
  },
  {
   "cell_type": "code",
   "execution_count": 5,
   "metadata": {
    "collapsed": true
   },
   "outputs": [],
   "source": [
    "codes_lst = Listorm(codes)"
   ]
  },
  {
   "cell_type": "code",
   "execution_count": 6,
   "metadata": {
    "collapsed": true
   },
   "outputs": [],
   "source": [
    "def get_theme_list():\n",
    "    theme_list = get_cpsvr8561()\n",
    "    ret = []\n",
    "    for themeset in theme_list:\n",
    "        tcode = themeset['테마코드']\n",
    "        codeset = get_cpsvr8561t(tcode=tcode)\n",
    "        ret += codeset\n",
    "    return ret"
   ]
  },
  {
   "cell_type": "code",
   "execution_count": 7,
   "metadata": {
    "collapsed": true
   },
   "outputs": [],
   "source": [
    "themes = get_theme_list()"
   ]
  },
  {
   "cell_type": "code",
   "execution_count": 8,
   "metadata": {
    "collapsed": true
   },
   "outputs": [],
   "source": [
    "themes_lst = Listorm(themes)"
   ]
  },
  {
   "cell_type": "code",
   "execution_count": 9,
   "metadata": {
    "collapsed": true
   },
   "outputs": [],
   "source": [
    "bases = codes_lst.join(themes_lst, on='종목코드', how='left')"
   ]
  },
  {
   "cell_type": "code",
   "execution_count": null,
   "metadata": {
    "collapsed": true
   },
   "outputs": [],
   "source": [
    "def get_setction_kind(df):\n",
    "    print(df)\n",
    "    ccm = CpCodeManager(df['종목코드'])\n",
    "    return ccm.stock_section_kind()"
   ]
  },
  {
   "cell_type": "code",
   "execution_count": null,
   "metadata": {
    "collapsed": true
   },
   "outputs": [],
   "source": [
    "themebases = []\n",
    "for base in bases:\n",
    "    code = base['종목코드']\n",
    "    ccm = CpCodeManager(code)\n",
    "    base['부구분'] = ccm.stock_section_kind\n",
    "    tcode = base['테마코드']\n",
    "    if tcode is not None:\n",
    "        themelist = get_cpsvr8561t(tcode=tcode)\n",
    "        for theme in themelist:\n",
    "            theme.update(base)\n",
    "            themebases.append(theme)"
   ]
  },
  {
   "cell_type": "code",
   "execution_count": 37,
   "metadata": {
    "collapsed": true
   },
   "outputs": [],
   "source": [
    "bases.to_excel('베이스.xlsx')"
   ]
  },
  {
   "cell_type": "code",
   "execution_count": null,
   "metadata": {
    "collapsed": true
   },
   "outputs": [],
   "source": []
  }
 ],
 "metadata": {
  "kernelspec": {
   "display_name": "Python 3",
   "language": "python",
   "name": "python3"
  },
  "language_info": {
   "codemirror_mode": {
    "name": "ipython",
    "version": 3
   },
   "file_extension": ".py",
   "mimetype": "text/x-python",
   "name": "python",
   "nbconvert_exporter": "python",
   "pygments_lexer": "ipython3",
   "version": "3.6.3"
  }
 },
 "nbformat": 4,
 "nbformat_minor": 2
}

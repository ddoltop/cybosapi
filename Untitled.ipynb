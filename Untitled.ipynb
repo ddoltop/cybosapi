{
 "cells": [
  {
   "cell_type": "code",
   "execution_count": 42,
   "metadata": {
    "collapsed": true
   },
   "outputs": [],
   "source": [
    "import pandas as pd"
   ]
  },
  {
   "cell_type": "code",
   "execution_count": 43,
   "metadata": {
    "collapsed": true
   },
   "outputs": [],
   "source": [
    "from cp.CpSysDib.MarketEye import get_marketeye\n",
    "from cp.CpSysDib.StockChart import get_stockchart\n",
    "from cp.CpDib.StockMst import get_stockmst\n",
    "from cp.CpDib.StockMstM import get_stockmstm\n",
    "from cp.CpDib.StockMst2 import get_stockmst2\n",
    "from cp.CpDib.StockCur import get_stockcur\n",
    "from cp.CpDib.StockJpBid2 import get_stockjpbid\n",
    "from cp.CpDib.StockBid import get_stockbid\n",
    "from cp.CpDib.StockWeek import get_stockweek"
   ]
  },
  {
   "cell_type": "code",
   "execution_count": 9,
   "metadata": {
    "collapsed": true
   },
   "outputs": [],
   "source": [
    "r = get_stockchart(\n",
    "\tcode = 'A003540',\n",
    "\treqgb = '기간',\n",
    "\tstart_date = '20161020',\n",
    "\tend_date = '20161031',\n",
    "\tcount = 10,\n",
    "\tfield = ['날짜', '시가', '*가', '거래량',],\n",
    "\tchart = '일',\n",
    "\tstockadj = '수정',\n",
    "\textras = ['code', '*한가'] #중복정보(임의로 만들어둔 정보값) \n",
    ")\n"
   ]
  },
  {
   "cell_type": "code",
   "execution_count": 10,
   "metadata": {
    "collapsed": true
   },
   "outputs": [],
   "source": [
    "df = pd.DataFrame(r)"
   ]
  },
  {
   "cell_type": "code",
   "execution_count": 11,
   "metadata": {},
   "outputs": [
    {
     "data": {
      "text/html": [
       "<div>\n",
       "<style>\n",
       "    .dataframe thead tr:only-child th {\n",
       "        text-align: right;\n",
       "    }\n",
       "\n",
       "    .dataframe thead th {\n",
       "        text-align: left;\n",
       "    }\n",
       "\n",
       "    .dataframe tbody tr th {\n",
       "        vertical-align: top;\n",
       "    }\n",
       "</style>\n",
       "<table border=\"1\" class=\"dataframe\">\n",
       "  <thead>\n",
       "    <tr style=\"text-align: right;\">\n",
       "      <th></th>\n",
       "      <th>code</th>\n",
       "      <th>거래량</th>\n",
       "      <th>고가</th>\n",
       "      <th>날짜</th>\n",
       "      <th>상한가</th>\n",
       "      <th>시가</th>\n",
       "      <th>저가</th>\n",
       "      <th>종가</th>\n",
       "      <th>하한가</th>\n",
       "    </tr>\n",
       "  </thead>\n",
       "  <tbody>\n",
       "    <tr>\n",
       "      <th>0</th>\n",
       "      <td>A003540</td>\n",
       "      <td>141131</td>\n",
       "      <td>10650</td>\n",
       "      <td>20161031</td>\n",
       "      <td>22650</td>\n",
       "      <td>10600</td>\n",
       "      <td>10450</td>\n",
       "      <td>10550</td>\n",
       "      <td>12250</td>\n",
       "    </tr>\n",
       "    <tr>\n",
       "      <th>1</th>\n",
       "      <td>A003540</td>\n",
       "      <td>62901</td>\n",
       "      <td>10800</td>\n",
       "      <td>20161028</td>\n",
       "      <td>22650</td>\n",
       "      <td>10750</td>\n",
       "      <td>10550</td>\n",
       "      <td>10650</td>\n",
       "      <td>12250</td>\n",
       "    </tr>\n",
       "    <tr>\n",
       "      <th>2</th>\n",
       "      <td>A003540</td>\n",
       "      <td>77954</td>\n",
       "      <td>10750</td>\n",
       "      <td>20161027</td>\n",
       "      <td>22650</td>\n",
       "      <td>10650</td>\n",
       "      <td>10550</td>\n",
       "      <td>10700</td>\n",
       "      <td>12250</td>\n",
       "    </tr>\n",
       "    <tr>\n",
       "      <th>3</th>\n",
       "      <td>A003540</td>\n",
       "      <td>173509</td>\n",
       "      <td>10950</td>\n",
       "      <td>20161026</td>\n",
       "      <td>22650</td>\n",
       "      <td>10950</td>\n",
       "      <td>10550</td>\n",
       "      <td>10600</td>\n",
       "      <td>12250</td>\n",
       "    </tr>\n",
       "    <tr>\n",
       "      <th>4</th>\n",
       "      <td>A003540</td>\n",
       "      <td>160825</td>\n",
       "      <td>10950</td>\n",
       "      <td>20161025</td>\n",
       "      <td>22650</td>\n",
       "      <td>10900</td>\n",
       "      <td>10700</td>\n",
       "      <td>10850</td>\n",
       "      <td>12250</td>\n",
       "    </tr>\n",
       "    <tr>\n",
       "      <th>5</th>\n",
       "      <td>A003540</td>\n",
       "      <td>80856</td>\n",
       "      <td>10950</td>\n",
       "      <td>20161024</td>\n",
       "      <td>22650</td>\n",
       "      <td>10850</td>\n",
       "      <td>10800</td>\n",
       "      <td>10850</td>\n",
       "      <td>12250</td>\n",
       "    </tr>\n",
       "    <tr>\n",
       "      <th>6</th>\n",
       "      <td>A003540</td>\n",
       "      <td>209439</td>\n",
       "      <td>10900</td>\n",
       "      <td>20161021</td>\n",
       "      <td>22650</td>\n",
       "      <td>10800</td>\n",
       "      <td>10700</td>\n",
       "      <td>10850</td>\n",
       "      <td>12250</td>\n",
       "    </tr>\n",
       "    <tr>\n",
       "      <th>7</th>\n",
       "      <td>A003540</td>\n",
       "      <td>137679</td>\n",
       "      <td>10900</td>\n",
       "      <td>20161020</td>\n",
       "      <td>22650</td>\n",
       "      <td>10750</td>\n",
       "      <td>10650</td>\n",
       "      <td>10850</td>\n",
       "      <td>12250</td>\n",
       "    </tr>\n",
       "  </tbody>\n",
       "</table>\n",
       "</div>"
      ],
      "text/plain": [
       "      code     거래량     고가        날짜    상한가     시가     저가     종가    하한가\n",
       "0  A003540  141131  10650  20161031  22650  10600  10450  10550  12250\n",
       "1  A003540   62901  10800  20161028  22650  10750  10550  10650  12250\n",
       "2  A003540   77954  10750  20161027  22650  10650  10550  10700  12250\n",
       "3  A003540  173509  10950  20161026  22650  10950  10550  10600  12250\n",
       "4  A003540  160825  10950  20161025  22650  10900  10700  10850  12250\n",
       "5  A003540   80856  10950  20161024  22650  10850  10800  10850  12250\n",
       "6  A003540  209439  10900  20161021  22650  10800  10700  10850  12250\n",
       "7  A003540  137679  10900  20161020  22650  10750  10650  10850  12250"
      ]
     },
     "execution_count": 11,
     "metadata": {},
     "output_type": "execute_result"
    }
   ],
   "source": [
    "df"
   ]
  },
  {
   "cell_type": "code",
   "execution_count": 50,
   "metadata": {},
   "outputs": [
    {
     "ename": "ValueError",
     "evalue": "Option name mating fault: 호가비교방식",
     "output_type": "error",
     "traceback": [
      "\u001b[1;31m---------------------------------------------------------------------------\u001b[0m",
      "\u001b[1;31mValueError\u001b[0m                                Traceback (most recent call last)",
      "\u001b[1;32m~\\Desktop\\dev\\cybosapi\\cybosapi\\cp\\utils.py\u001b[0m in \u001b[0;36m_encode_options\u001b[1;34m(method_info, method_name, argname, optionvals, many)\u001b[0m\n\u001b[0;32m     57\u001b[0m \t\t\t\targ, *_ = sorted(\n\u001b[1;32m---> 58\u001b[1;33m                                         \u001b[0midx\u001b[0m \u001b[1;32mfor\u001b[0m \u001b[0mopname\u001b[0m\u001b[1;33m,\u001b[0m \u001b[0midx\u001b[0m \u001b[1;32min\u001b[0m \u001b[0mrevoptsets\u001b[0m\u001b[1;33m.\u001b[0m\u001b[0mitems\u001b[0m\u001b[1;33m(\u001b[0m\u001b[1;33m)\u001b[0m\u001b[1;33m\u001b[0m\u001b[0m\n\u001b[0m\u001b[0;32m     59\u001b[0m                                         \u001b[1;32mif\u001b[0m \u001b[0mfnmatch\u001b[0m\u001b[1;33m.\u001b[0m\u001b[0mfnmatch\u001b[0m\u001b[1;33m(\u001b[0m\u001b[0mopname\u001b[0m\u001b[1;33m,\u001b[0m \u001b[0moptionvals\u001b[0m\u001b[1;33m)\u001b[0m  \u001b[1;32mand\u001b[0m \u001b[0misinstance\u001b[0m\u001b[1;33m(\u001b[0m\u001b[0moptionvals\u001b[0m\u001b[1;33m,\u001b[0m \u001b[0mstr\u001b[0m\u001b[1;33m)\u001b[0m\u001b[1;33m\u001b[0m\u001b[0m\n",
      "\u001b[1;31mValueError\u001b[0m: not enough values to unpack (expected at least 1, got 0)",
      "\nDuring handling of the above exception, another exception occurred:\n",
      "\u001b[1;31mValueError\u001b[0m                                Traceback (most recent call last)",
      "\u001b[1;32m<ipython-input-50-f9d58a88cda8>\u001b[0m in \u001b[0;36m<module>\u001b[1;34m()\u001b[0m\n\u001b[0;32m      1\u001b[0m 호가 = get_marketeye(\n\u001b[0;32m      2\u001b[0m         \u001b[0mcode\u001b[0m\u001b[1;33m=\u001b[0m\u001b[1;34m'A003540'\u001b[0m\u001b[1;33m,\u001b[0m \u001b[0mfield\u001b[0m\u001b[1;33m=\u001b[0m\u001b[1;33m[\u001b[0m\u001b[1;34m'현재가'\u001b[0m\u001b[1;33m,\u001b[0m \u001b[1;34m'PER'\u001b[0m\u001b[1;33m,\u001b[0m \u001b[1;34m'최근분기년월'\u001b[0m\u001b[1;33m,\u001b[0m \u001b[1;34m'EPS'\u001b[0m\u001b[1;33m,\u001b[0m \u001b[1;34m'결산년월'\u001b[0m\u001b[1;33m,\u001b[0m \u001b[1;34m'BPS'\u001b[0m\u001b[1;33m]\u001b[0m\u001b[1;33m,\u001b[0m\u001b[1;33m\u001b[0m\u001b[0m\n\u001b[1;32m----> 3\u001b[1;33m         \u001b[0mcontract\u001b[0m\u001b[1;33m=\u001b[0m\u001b[1;34m'호가비교방식'\u001b[0m\u001b[1;33m\u001b[0m\u001b[0m\n\u001b[0m\u001b[0;32m      4\u001b[0m )\n",
      "\u001b[1;32m~\\Desktop\\dev\\cybosapi\\cybosapi\\cp\\CpSysDib\\MarketEye.py\u001b[0m in \u001b[0;36mget_marketeye\u001b[1;34m(**kwargs)\u001b[0m\n\u001b[0;32m    314\u001b[0m \u001b[1;33m\u001b[0m\u001b[0m\n\u001b[0;32m    315\u001b[0m \u001b[1;32mdef\u001b[0m \u001b[0mget_marketeye\u001b[0m\u001b[1;33m(\u001b[0m\u001b[1;33m**\u001b[0m\u001b[0mkwargs\u001b[0m\u001b[1;33m)\u001b[0m\u001b[1;33m:\u001b[0m\u001b[1;33m\u001b[0m\u001b[0m\n\u001b[1;32m--> 316\u001b[1;33m         \u001b[0msetinputvalue_argset\u001b[0m \u001b[1;33m=\u001b[0m \u001b[0mencode_args\u001b[0m\u001b[1;33m(\u001b[0m\u001b[0mMETHODS_INTERFACES\u001b[0m\u001b[1;33m,\u001b[0m \u001b[1;34m'SetInputValue'\u001b[0m\u001b[1;33m,\u001b[0m \u001b[1;33m**\u001b[0m\u001b[0mkwargs\u001b[0m\u001b[1;33m)\u001b[0m\u001b[1;33m\u001b[0m\u001b[0m\n\u001b[0m\u001b[0;32m    317\u001b[0m         \u001b[0mcp\u001b[0m \u001b[1;33m=\u001b[0m \u001b[0mwin32com\u001b[0m\u001b[1;33m.\u001b[0m\u001b[0mclient\u001b[0m\u001b[1;33m.\u001b[0m\u001b[0mDispatch\u001b[0m\u001b[1;33m(\u001b[0m\u001b[0mMODULE_NAME\u001b[0m\u001b[1;33m)\u001b[0m\u001b[1;33m\u001b[0m\u001b[0m\n\u001b[0;32m    318\u001b[0m         \u001b[0mcp\u001b[0m \u001b[1;33m=\u001b[0m \u001b[0mset_inputvalue\u001b[0m\u001b[1;33m(\u001b[0m\u001b[0mcp\u001b[0m\u001b[1;33m,\u001b[0m \u001b[0msetinputvalue_argset\u001b[0m\u001b[1;33m)\u001b[0m\u001b[1;33m\u001b[0m\u001b[0m\n",
      "\u001b[1;32m~\\Desktop\\dev\\cybosapi\\cybosapi\\cp\\utils.py\u001b[0m in \u001b[0;36mencode_args\u001b[1;34m(method_info, method_name, indexed, flated, **kwargs)\u001b[0m\n\u001b[0;32m     95\u001b[0m                                 \u001b[1;32melse\u001b[0m\u001b[1;33m:\u001b[0m\u001b[1;33m\u001b[0m\u001b[0m\n\u001b[0;32m     96\u001b[0m                                         \u001b[1;32mcontinue\u001b[0m\u001b[1;33m\u001b[0m\u001b[0m\n\u001b[1;32m---> 97\u001b[1;33m                 \u001b[0margval\u001b[0m \u001b[1;33m=\u001b[0m \u001b[0m_encode_options\u001b[0m\u001b[1;33m(\u001b[0m\u001b[0mmethod_info\u001b[0m\u001b[1;33m,\u001b[0m \u001b[0mmethod_name\u001b[0m\u001b[1;33m,\u001b[0m \u001b[0margname\u001b[0m\u001b[1;33m,\u001b[0m \u001b[0margval\u001b[0m\u001b[1;33m,\u001b[0m \u001b[0mmany\u001b[0m\u001b[1;33m)\u001b[0m\u001b[1;33m\u001b[0m\u001b[0m\n\u001b[0m\u001b[0;32m     98\u001b[0m \u001b[1;33m\u001b[0m\u001b[0m\n\u001b[0;32m     99\u001b[0m                 \u001b[1;32mif\u001b[0m \u001b[0misinstance\u001b[0m\u001b[1;33m(\u001b[0m\u001b[0margval\u001b[0m\u001b[1;33m,\u001b[0m \u001b[1;33m(\u001b[0m\u001b[0mstr\u001b[0m\u001b[1;33m,\u001b[0m \u001b[0mbytes\u001b[0m\u001b[1;33m,\u001b[0m \u001b[0mint\u001b[0m\u001b[1;33m)\u001b[0m\u001b[1;33m)\u001b[0m\u001b[1;33m:\u001b[0m\u001b[1;33m\u001b[0m\u001b[0m\n",
      "\u001b[1;32m~\\Desktop\\dev\\cybosapi\\cybosapi\\cp\\utils.py\u001b[0m in \u001b[0;36m_encode_options\u001b[1;34m(method_info, method_name, argname, optionvals, many)\u001b[0m\n\u001b[0;32m     60\u001b[0m \t\t\t\t)\n\u001b[0;32m     61\u001b[0m                         \u001b[1;32mexcept\u001b[0m\u001b[1;33m:\u001b[0m\u001b[1;33m\u001b[0m\u001b[0m\n\u001b[1;32m---> 62\u001b[1;33m                                 \u001b[1;32mraise\u001b[0m \u001b[0mValueError\u001b[0m\u001b[1;33m(\u001b[0m\u001b[1;34m'Option name mating fault: {}'\u001b[0m\u001b[1;33m.\u001b[0m\u001b[0mformat\u001b[0m\u001b[1;33m(\u001b[0m\u001b[0moptionvals\u001b[0m\u001b[1;33m)\u001b[0m\u001b[1;33m)\u001b[0m\u001b[1;33m\u001b[0m\u001b[0m\n\u001b[0m\u001b[0;32m     63\u001b[0m                         \u001b[1;32melse\u001b[0m\u001b[1;33m:\u001b[0m\u001b[1;33m\u001b[0m\u001b[0m\n\u001b[0;32m     64\u001b[0m                                 \u001b[0margs\u001b[0m \u001b[1;33m=\u001b[0m \u001b[0marg\u001b[0m\u001b[1;33m\u001b[0m\u001b[0m\n",
      "\u001b[1;31mValueError\u001b[0m: Option name mating fault: 호가비교방식"
     ]
    }
   ],
   "source": [
    "호가 = get_marketeye(\n",
    "\tcode='A003540', field=['현재가', 'PER', '최근분기년월', 'EPS', '결산년월', 'BPS'], \n",
    "\tcontract='호가비교방식'\n",
    ")"
   ]
  },
  {
   "cell_type": "code",
   "execution_count": 51,
   "metadata": {
    "collapsed": true
   },
   "outputs": [],
   "source": [
    "체결 = get_marketeye(\n",
    "\tcode='A003540', field=['현재가', 'PER', '최근분기년월', 'EPS', '결산년월', 'BPS'], \n",
    "\tcontract='체결가비교방식'\n",
    ")"
   ]
  },
  {
   "cell_type": "code",
   "execution_count": 46,
   "metadata": {
    "collapsed": true
   },
   "outputs": [],
   "source": [
    "호가 = pd.DataFrame(호가)"
   ]
  },
  {
   "cell_type": "code",
   "execution_count": 47,
   "metadata": {
    "collapsed": true
   },
   "outputs": [],
   "source": [
    "체결 = pd.DataFrame(체결)"
   ]
  },
  {
   "cell_type": "code",
   "execution_count": 48,
   "metadata": {},
   "outputs": [
    {
     "data": {
      "text/html": [
       "<div>\n",
       "<style>\n",
       "    .dataframe thead tr:only-child th {\n",
       "        text-align: right;\n",
       "    }\n",
       "\n",
       "    .dataframe thead th {\n",
       "        text-align: left;\n",
       "    }\n",
       "\n",
       "    .dataframe tbody tr th {\n",
       "        vertical-align: top;\n",
       "    }\n",
       "</style>\n",
       "<table border=\"1\" class=\"dataframe\">\n",
       "  <thead>\n",
       "    <tr style=\"text-align: right;\">\n",
       "      <th></th>\n",
       "      <th>BPS</th>\n",
       "      <th>EPS</th>\n",
       "      <th>PER</th>\n",
       "      <th>결산년월</th>\n",
       "      <th>최근분기년월</th>\n",
       "      <th>현재가</th>\n",
       "    </tr>\n",
       "  </thead>\n",
       "  <tbody>\n",
       "    <tr>\n",
       "      <th>0</th>\n",
       "      <td>20045</td>\n",
       "      <td>2733</td>\n",
       "      <td>6.26</td>\n",
       "      <td>201612</td>\n",
       "      <td>201709</td>\n",
       "      <td>17100</td>\n",
       "    </tr>\n",
       "  </tbody>\n",
       "</table>\n",
       "</div>"
      ],
      "text/plain": [
       "     BPS   EPS   PER    결산년월  최근분기년월    현재가\n",
       "0  20045  2733  6.26  201612  201709  17100"
      ]
     },
     "execution_count": 48,
     "metadata": {},
     "output_type": "execute_result"
    }
   ],
   "source": [
    "호가"
   ]
  },
  {
   "cell_type": "code",
   "execution_count": 49,
   "metadata": {},
   "outputs": [
    {
     "data": {
      "text/html": [
       "<div>\n",
       "<style>\n",
       "    .dataframe thead tr:only-child th {\n",
       "        text-align: right;\n",
       "    }\n",
       "\n",
       "    .dataframe thead th {\n",
       "        text-align: left;\n",
       "    }\n",
       "\n",
       "    .dataframe tbody tr th {\n",
       "        vertical-align: top;\n",
       "    }\n",
       "</style>\n",
       "<table border=\"1\" class=\"dataframe\">\n",
       "  <thead>\n",
       "    <tr style=\"text-align: right;\">\n",
       "      <th></th>\n",
       "      <th>BPS</th>\n",
       "      <th>EPS</th>\n",
       "      <th>PER</th>\n",
       "      <th>결산년월</th>\n",
       "      <th>최근분기년월</th>\n",
       "      <th>현재가</th>\n",
       "    </tr>\n",
       "  </thead>\n",
       "  <tbody>\n",
       "    <tr>\n",
       "      <th>0</th>\n",
       "      <td>20045</td>\n",
       "      <td>2733</td>\n",
       "      <td>6.26</td>\n",
       "      <td>201612</td>\n",
       "      <td>201709</td>\n",
       "      <td>17100</td>\n",
       "    </tr>\n",
       "  </tbody>\n",
       "</table>\n",
       "</div>"
      ],
      "text/plain": [
       "     BPS   EPS   PER    결산년월  최근분기년월    현재가\n",
       "0  20045  2733  6.26  201612  201709  17100"
      ]
     },
     "execution_count": 49,
     "metadata": {},
     "output_type": "execute_result"
    }
   ],
   "source": [
    "체결"
   ]
  },
  {
   "cell_type": "code",
   "execution_count": null,
   "metadata": {
    "collapsed": true
   },
   "outputs": [],
   "source": []
  }
 ],
 "metadata": {
  "kernelspec": {
   "display_name": "Python 3",
   "language": "python",
   "name": "python3"
  },
  "language_info": {
   "codemirror_mode": {
    "name": "ipython",
    "version": 3
   },
   "file_extension": ".py",
   "mimetype": "text/x-python",
   "name": "python",
   "nbconvert_exporter": "python",
   "pygments_lexer": "ipython3",
   "version": "3.6.3"
  }
 },
 "nbformat": 4,
 "nbformat_minor": 2
}
